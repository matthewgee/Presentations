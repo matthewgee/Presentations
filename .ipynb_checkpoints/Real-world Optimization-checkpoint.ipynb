{
 "metadata": {
  "name": ""
 },
 "nbformat": 3,
 "nbformat_minor": 0,
 "worksheets": [
  {
   "cells": [
    {
     "cell_type": "markdown",
     "metadata": {
      "slideshow": {
       "slide_type": "notes"
      }
     },
     "source": [
      "#Real-world Optimization: Why Second Best \n",
      "\n",
      "General Outline \n",
      "\n",
      "- Look into boundy conditions for a boundry set\n",
      "    - Often teh problems are of a class that, if they meet a minimum threashold, they are acceptable\n",
      "    - You aren't looking for a maximum, you are looking for a satisfying set and then doing pairwise feasibility"
     ]
    },
    {
     "cell_type": "markdown",
     "metadata": {
      "slideshow": {
       "slide_type": "slide"
      }
     },
     "source": [
      "#Adaptive Interventions and Policy Design Under Uncertainty: Three Early Experiments\n",
      "\n",
      "###Matt Gee\n",
      "###PhD Workshop May 12, 2014"
     ]
    },
    {
     "cell_type": "markdown",
     "metadata": {},
     "source": [
      "\""
     ]
    },
    {
     "cell_type": "code",
     "collapsed": false,
     "input": [
      "%%latex\n",
      "\n",
      "\n",
      "\\begin{equation}\n",
      "\n",
      "\\max\\limits_{k \\in lp(i)}(L_k) = 1 \n",
      "\n",
      "\\begin{split}\n",
      "\\dot u &= \\pm u^2 +\\delta u^3\\\\\n",
      "\\dot v &= v\\\\\n",
      "\\dot w &= -w,\n",
      "\\end{split}\\label{eq:nf1}\n",
      "\\end{equation}\n",
      "\n",
      "Equation \\eqref{eq:nf1} bla bla bla\n",
      "\n",
      "\n"
     ],
     "language": "python",
     "metadata": {},
     "outputs": [
      {
       "latex": [
        "\n",
        "\n",
        "\\begin{equation}\n",
        "\n",
        "\\max\\limits_{k \\in lp(i)}(L_k) = 1 \n",
        "\n",
        "\\begin{split}\n",
        "\\dot u &= \\pm u^2 +\\delta u^3\\\\\n",
        "\\dot v &= v\\\\\n",
        "\\dot w &= -w,\n",
        "\\end{split}\\label{eq:nf1}\n",
        "\\end{equation}\n",
        "\n",
        "Equation \\eqref{eq:nf1} bla bla bla\n",
        "\n"
       ],
       "metadata": {},
       "output_type": "display_data",
       "text": [
        "<IPython.core.display.Latex at 0x104613bd0>"
       ]
      }
     ],
     "prompt_number": 4
    },
    {
     "cell_type": "markdown",
     "metadata": {},
     "source": [
      "%%latex\n",
      "Economists are often interested in thinking of economic agents solve the optimization equation\n",
      "\n",
      "\n",
      "\\begin{equation}\n",
      "\\max\\limits_{k \\in lp(i)}(L_k) = 1 \n",
      "\n",
      "#\\begin{split}\n",
      "\\dot u &= \\pm u^2 +\\delta u^3\\\\\n",
      "\\dot v &= v\\\\\n",
      "\\dot w &= -w,\n",
      "#\\end{split}\\label{eq:nf1}\n",
      "\\end{equation}\n",
      "\n",
      "Equation \\eqref{eq:nf1} bla bla bla\n",
      "\n",
      "\n",
      "\n"
     ]
    },
    {
     "cell_type": "code",
     "collapsed": false,
     "input": [
      "To the Ext"
     ],
     "language": "python",
     "metadata": {},
     "outputs": []
    }
   ],
   "metadata": {}
  }
 ]
}