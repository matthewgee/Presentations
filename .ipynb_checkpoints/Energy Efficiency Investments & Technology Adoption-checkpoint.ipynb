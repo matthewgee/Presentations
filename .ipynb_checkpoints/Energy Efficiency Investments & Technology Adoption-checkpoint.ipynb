{
 "metadata": {
  "name": ""
 },
 "nbformat": 3,
 "nbformat_minor": 0,
 "worksheets": [
  {
   "cells": [
    {
     "cell_type": "markdown",
     "metadata": {},
     "source": [
      "#Energy Efficiency Technology Investment & UncertaintyM"
     ]
    },
    {
     "cell_type": "markdown",
     "metadata": {},
     "source": [
      "Policymakers would like to learn about the effectiveness of policy instruments and programs in deffusing technology, as well as the real-world effectiveness of those technologies. (Jaffe\n",
      "\n",
      "The typical challenges associated with this problem are:\n",
      "\n",
      "1. principal agent problems\n",
      "2. infromation problems\n",
      "3. unobserved costs\n",
      "4. private information costs\n",
      "5. high discount rates\n",
      "6. heterogeneity among homeowners\n",
      "\n",
      "    *(Jaffe and Stavins, 1999)*\n",
      "    \n"
     ]
    },
    {
     "cell_type": "code",
     "collapsed": false,
     "input": [],
     "language": "python",
     "metadata": {},
     "outputs": []
    }
   ],
   "metadata": {}
  }
 ]
}