{
 "metadata": {
  "name": "",
  "signature": "sha256:74da454101330d829ec1aa3372fa8d77009d62bff7f4dfa71228fb5ade0aad5c"
 },
 "nbformat": 3,
 "nbformat_minor": 0,
 "worksheets": [
  {
   "cells": [
    {
     "cell_type": "markdown",
     "metadata": {},
     "source": [
      "# Installing the slideshow support\n",
      "\n",
      "**NOTE** The tools here require IPython 1.0, they do *not* work with\n",
      "IPython 0.13.2.\n",
      "\n",
      "You should only need to run this notebook *once*. \n",
      "\n",
      "It will install the slideshow tools in your IPython profile from github.  It's done in steps so you can debug it more easily if things go wrong.\n",
      "\n",
      "Start by getting the location of your current profile:"
     ]
    },
    {
     "cell_type": "code",
     "collapsed": false,
     "input": [
      "profile_dir = get_ipython().profile_dir.location\n",
      "profile_dir"
     ],
     "language": "python",
     "metadata": {},
     "outputs": [
      {
       "metadata": {},
       "output_type": "pyout",
       "prompt_number": 1,
       "text": [
        "u'/Users/matthewgee/.ipython/profile_default'"
       ]
      }
     ],
     "prompt_number": 1
    },
    {
     "cell_type": "markdown",
     "metadata": {},
     "source": [
      "Clone the [Github repo](https://github.com/ipython-contrib/IPython-notebook-extensions) with IPython extensions, including the slideshow support, into the right location:"
     ]
    },
    {
     "cell_type": "code",
     "collapsed": false,
     "input": [
      "import os\n",
      "tgt = os.path.join( profile_dir, 'static', 'custom')\n",
      "!git clone https://github.com/ipython-contrib/IPython-notebook-extensions.git $tgt"
     ],
     "language": "python",
     "metadata": {},
     "outputs": [
      {
       "output_type": "stream",
       "stream": "stdout",
       "text": [
        "Cloning into '/Users/matthewgee/.ipython/profile_default/static/custom'...\r\n"
       ]
      },
      {
       "output_type": "stream",
       "stream": "stdout",
       "text": [
        "remote: Reusing existing pack: 789, done.\u001b[K\r\n",
        "remote: Counting objects: 24, done.\u001b[K\r\n",
        "remote: Compressing objects:   4% (1/21)   \u001b[K\r",
        "remote: Compressing objects:   9% (2/21)   \u001b[K\r",
        "remote: Compressing objects:  14% (3/21)   \u001b[K\r",
        "remote: Compressing objects:  19% (4/21)   \u001b[K\r",
        "remote: Compressing objects:  23% (5/21)   \u001b[K\r",
        "remote: Compressing objects:  28% (6/21)   \u001b[K\r",
        "remote: Compressing objects:  33% (7/21)   \u001b[K\r",
        "remote: Compressing objects:  38% (8/21)   \u001b[K\r",
        "remote: Compressing objects:  42% (9/21)   \u001b[K\r",
        "remote: Compressing objects:  47% (10/21)   \u001b[K\r",
        "remote: Compressing objects:  52% (11/21)   \u001b[K\r",
        "remote: Compressing objects:  57% (12/21)   \u001b[K\r",
        "remote: Compressing objects:  61% (13/21)   \u001b[K\r",
        "remote: Compressing objects:  66% (14/21)   \u001b[K\r",
        "remote: Compressing objects:  71% (15/21)   \u001b[K\r",
        "remote: Compressing objects:  76% (16/21)   \u001b[K\r",
        "remote: Compressing objects:  80% (17/21)   \u001b[K\r",
        "remote: Compressing objects:  85% (18/21)   \u001b[K\r",
        "remote: Compressing objects:  90% (19/21)   \u001b[K\r",
        "remote: Compressing objects:  95% (20/21)   \u001b[K\r",
        "remote: Compressing objects: 100% (21/21)   \u001b[K\r",
        "remote: Compressing objects: 100% (21/21), done.\u001b[K\r\n"
       ]
      },
      {
       "output_type": "stream",
       "stream": "stdout",
       "text": [
        "Receiving objects:   0% (1/813)   \r",
        "Receiving objects:   1% (9/813)   \r",
        "Receiving objects:   2% (17/813)   \r",
        "Receiving objects:   3% (25/813)   \r",
        "Receiving objects:   4% (33/813)   \r",
        "Receiving objects:   5% (41/813)   \r",
        "Receiving objects:   6% (49/813)   \r",
        "Receiving objects:   7% (57/813)   \r",
        "Receiving objects:   8% (66/813)   \r",
        "Receiving objects:   9% (74/813)   \r",
        "Receiving objects:  10% (82/813)   \r"
       ]
      },
      {
       "output_type": "stream",
       "stream": "stdout",
       "text": [
        "Receiving objects:  11% (90/813)   \r",
        "Receiving objects:  12% (98/813)   \r",
        "Receiving objects:  13% (106/813)   \r",
        "Receiving objects:  14% (114/813)   \r",
        "Receiving objects:  15% (122/813)   \r",
        "Receiving objects:  16% (131/813)   \r",
        "Receiving objects:  17% (139/813)   \r",
        "Receiving objects:  18% (147/813)   \r",
        "Receiving objects:  19% (155/813)   \r",
        "Receiving objects:  20% (163/813)   \r"
       ]
      },
      {
       "output_type": "stream",
       "stream": "stdout",
       "text": [
        "Receiving objects:  21% (171/813)   \r",
        "Receiving objects:  22% (179/813)   \r",
        "Receiving objects:  23% (187/813)   \r",
        "Receiving objects:  24% (196/813)   \r",
        "Receiving objects:  25% (204/813)   \r"
       ]
      },
      {
       "output_type": "stream",
       "stream": "stdout",
       "text": [
        "Receiving objects:  26% (212/813)   \r",
        "Receiving objects:  27% (220/813)   \r",
        "Receiving objects:  28% (228/813)   \r",
        "Receiving objects:  29% (236/813)   \r"
       ]
      },
      {
       "output_type": "stream",
       "stream": "stdout",
       "text": [
        "Receiving objects:  30% (244/813), 324.00 KiB | 637.00 KiB/s   \r"
       ]
      },
      {
       "output_type": "stream",
       "stream": "stdout",
       "text": [
        "Receiving objects:  30% (244/813), 532.00 KiB | 522.00 KiB/s   \r"
       ]
      },
      {
       "output_type": "stream",
       "stream": "stdout",
       "text": [
        "Receiving objects:  30% (247/813), 1.50 MiB | 738.00 KiB/s   \r"
       ]
      },
      {
       "output_type": "stream",
       "stream": "stdout",
       "text": [
        "Receiving objects:  31% (253/813), 1.89 MiB | 746.00 KiB/s   \r",
        "Receiving objects:  32% (261/813), 1.89 MiB | 746.00 KiB/s   \r",
        "Receiving objects:  33% (269/813), 1.89 MiB | 746.00 KiB/s   \r",
        "Receiving objects:  33% (273/813), 1.89 MiB | 746.00 KiB/s   \r",
        "Receiving objects:  34% (277/813), 1.89 MiB | 746.00 KiB/s   \r",
        "Receiving objects:  35% (285/813), 1.89 MiB | 746.00 KiB/s   \r",
        "Receiving objects:  36% (293/813), 1.89 MiB | 746.00 KiB/s   \r",
        "Receiving objects:  37% (301/813), 1.89 MiB | 746.00 KiB/s   \r"
       ]
      },
      {
       "output_type": "stream",
       "stream": "stdout",
       "text": [
        "Receiving objects:  38% (309/813), 1.89 MiB | 746.00 KiB/s   \r"
       ]
      },
      {
       "output_type": "stream",
       "stream": "stdout",
       "text": [
        "Receiving objects:  39% (318/813), 2.18 MiB | 714.00 KiB/s   \r"
       ]
      },
      {
       "output_type": "stream",
       "stream": "stdout",
       "text": [
        "Receiving objects:  40% (326/813), 2.18 MiB | 714.00 KiB/s   \r"
       ]
      },
      {
       "output_type": "stream",
       "stream": "stdout",
       "text": [
        "Receiving objects:  41% (334/813), 2.18 MiB | 714.00 KiB/s   \r",
        "Receiving objects:  42% (342/813), 2.18 MiB | 714.00 KiB/s   \r",
        "Receiving objects:  43% (350/813), 2.18 MiB | 714.00 KiB/s   \r",
        "Receiving objects:  44% (358/813), 2.18 MiB | 714.00 KiB/s   \r"
       ]
      },
      {
       "output_type": "stream",
       "stream": "stdout",
       "text": [
        "Receiving objects:  45% (366/813), 2.54 MiB | 715.00 KiB/s   \r",
        "Receiving objects:  46% (374/813), 2.54 MiB | 715.00 KiB/s   \r",
        "Receiving objects:  47% (383/813), 2.54 MiB | 715.00 KiB/s   \r",
        "Receiving objects:  48% (391/813), 2.54 MiB | 715.00 KiB/s   \r",
        "Receiving objects:  49% (399/813), 2.54 MiB | 715.00 KiB/s   \r",
        "Receiving objects:  50% (407/813), 2.54 MiB | 715.00 KiB/s   \r",
        "Receiving objects:  51% (415/813), 2.54 MiB | 715.00 KiB/s   \r",
        "Receiving objects:  52% (423/813), 2.54 MiB | 715.00 KiB/s   \r",
        "Receiving objects:  53% (431/813), 2.54 MiB | 715.00 KiB/s   \r",
        "Receiving objects:  54% (440/813), 2.54 MiB | 715.00 KiB/s   \r",
        "Receiving objects:  55% (448/813), 2.54 MiB | 715.00 KiB/s   \r",
        "Receiving objects:  56% (456/813), 2.54 MiB | 715.00 KiB/s   \r",
        "Receiving objects:  57% (464/813), 2.54 MiB | 715.00 KiB/s   \r",
        "Receiving objects:  58% (472/813), 2.54 MiB | 715.00 KiB/s   \r",
        "Receiving objects:  59% (480/813), 2.54 MiB | 715.00 KiB/s   \r",
        "Receiving objects:  60% (488/813), 2.54 MiB | 715.00 KiB/s   \r",
        "Receiving objects:  61% (496/813), 2.54 MiB | 715.00 KiB/s   \r",
        "Receiving objects:  62% (505/813), 2.54 MiB | 715.00 KiB/s   \r",
        "Receiving objects:  63% (513/813), 2.54 MiB | 715.00 KiB/s   \r"
       ]
      },
      {
       "output_type": "stream",
       "stream": "stdout",
       "text": [
        "Receiving objects:  64% (521/813), 2.54 MiB | 715.00 KiB/s   \r",
        "Receiving objects:  65% (529/813), 2.54 MiB | 715.00 KiB/s   \r",
        "Receiving objects:  66% (537/813), 2.54 MiB | 715.00 KiB/s   \r",
        "Receiving objects:  67% (545/813), 2.54 MiB | 715.00 KiB/s   \r",
        "Receiving objects:  68% (553/813), 2.54 MiB | 715.00 KiB/s   \r",
        "Receiving objects:  69% (561/813), 2.54 MiB | 715.00 KiB/s   \r",
        "Receiving objects:  70% (570/813), 2.54 MiB | 715.00 KiB/s   \r",
        "Receiving objects:  71% (578/813), 2.54 MiB | 715.00 KiB/s   \r",
        "Receiving objects:  72% (586/813), 2.54 MiB | 715.00 KiB/s   \r",
        "Receiving objects:  73% (594/813), 2.54 MiB | 715.00 KiB/s   \r",
        "Receiving objects:  74% (602/813), 2.54 MiB | 715.00 KiB/s   \r",
        "Receiving objects:  75% (610/813), 2.54 MiB | 715.00 KiB/s   \r",
        "Receiving objects:  76% (618/813), 2.54 MiB | 715.00 KiB/s   \r",
        "Receiving objects:  77% (627/813), 2.54 MiB | 715.00 KiB/s   \r",
        "Receiving objects:  78% (635/813), 2.54 MiB | 715.00 KiB/s   \r",
        "Receiving objects:  79% (643/813), 2.54 MiB | 715.00 KiB/s   \r",
        "Receiving objects:  80% (651/813), 2.54 MiB | 715.00 KiB/s   \r",
        "Receiving objects:  81% (659/813), 2.54 MiB | 715.00 KiB/s   \r",
        "Receiving objects:  82% (667/813), 2.54 MiB | 715.00 KiB/s   \r",
        "Receiving objects:  83% (675/813), 2.54 MiB | 715.00 KiB/s   \r",
        "Receiving objects:  84% (683/813), 2.54 MiB | 715.00 KiB/s   \r",
        "Receiving objects:  85% (692/813), 2.54 MiB | 715.00 KiB/s   \r",
        "Receiving objects:  86% (700/813), 2.54 MiB | 715.00 KiB/s   \r",
        "Receiving objects:  87% (708/813), 2.54 MiB | 715.00 KiB/s   \r",
        "Receiving objects:  88% (716/813), 2.54 MiB | 715.00 KiB/s   \r",
        "Receiving objects:  89% (724/813), 2.54 MiB | 715.00 KiB/s   \r",
        "Receiving objects:  90% (732/813), 2.54 MiB | 715.00 KiB/s   \r",
        "Receiving objects:  91% (740/813), 2.54 MiB | 715.00 KiB/s   \r",
        "Receiving objects:  92% (748/813), 2.54 MiB | 715.00 KiB/s   \r",
        "Receiving objects:  93% (757/813), 2.54 MiB | 715.00 KiB/s   \r",
        "Receiving objects:  94% (765/813), 2.54 MiB | 715.00 KiB/s   \r",
        "Receiving objects:  95% (773/813), 2.54 MiB | 715.00 KiB/s   \r",
        "Receiving objects:  96% (781/813), 2.54 MiB | 715.00 KiB/s   \r",
        "Receiving objects:  97% (789/813), 2.54 MiB | 715.00 KiB/s   \r",
        "Receiving objects:  98% (797/813), 2.54 MiB | 715.00 KiB/s   \r",
        "remote: Total 813 (delta 12), reused 3 (delta 3)\u001b[K\r\n",
        "Receiving objects:  99% (805/813), 2.54 MiB | 715.00 KiB/s   \r",
        "Receiving objects: 100% (813/813), 2.54 MiB | 715.00 KiB/s   \r",
        "Receiving objects: 100% (813/813), 2.64 MiB | 715.00 KiB/s, done.\r\n",
        "Resolving deltas:   0% (0/362)   \r",
        "Resolving deltas:   1% (6/362)   \r",
        "Resolving deltas:   2% (8/362)   \r",
        "Resolving deltas:   3% (12/362)   \r",
        "Resolving deltas:   4% (15/362)   \r",
        "Resolving deltas:   5% (20/362)   \r",
        "Resolving deltas:   6% (24/362)   \r",
        "Resolving deltas:   8% (32/362)   \r",
        "Resolving deltas:   9% (33/362)   \r",
        "Resolving deltas:  10% (37/362)   \r",
        "Resolving deltas:  11% (40/362)   \r",
        "Resolving deltas:  12% (44/362)   \r",
        "Resolving deltas:  13% (49/362)   \r",
        "Resolving deltas:  14% (51/362)   \r",
        "Resolving deltas:  15% (55/362)   \r",
        "Resolving deltas:  16% (58/362)   \r",
        "Resolving deltas:  17% (64/362)   \r",
        "Resolving deltas:  18% (67/362)   \r",
        "Resolving deltas:  19% (69/362)   \r",
        "Resolving deltas:  20% (74/362)   \r",
        "Resolving deltas:  21% (79/362)   \r",
        "Resolving deltas:  22% (83/362)   \r",
        "Resolving deltas:  23% (84/362)   \r",
        "Resolving deltas:  24% (89/362)   \r",
        "Resolving deltas:  25% (93/362)   \r",
        "Resolving deltas:  31% (114/362)   \r",
        "Resolving deltas:  32% (117/362)   \r"
       ]
      },
      {
       "output_type": "stream",
       "stream": "stdout",
       "text": [
        "Resolving deltas:  36% (131/362)   \r",
        "Resolving deltas:  38% (140/362)   \r",
        "Resolving deltas:  39% (143/362)   \r",
        "Resolving deltas:  41% (152/362)   \r",
        "Resolving deltas:  42% (155/362)   \r",
        "Resolving deltas:  44% (160/362)   \r",
        "Resolving deltas:  46% (170/362)   \r",
        "Resolving deltas:  56% (205/362)   \r",
        "Resolving deltas:  57% (209/362)   \r",
        "Resolving deltas:  58% (213/362)   \r",
        "Resolving deltas:  59% (216/362)   \r",
        "Resolving deltas:  62% (227/362)   \r",
        "Resolving deltas:  65% (238/362)   \r",
        "Resolving deltas:  66% (242/362)   \r",
        "Resolving deltas:  69% (251/362)   \r",
        "Resolving deltas:  70% (256/362)   \r",
        "Resolving deltas:  72% (264/362)   \r",
        "Resolving deltas:  77% (282/362)   \r",
        "Resolving deltas:  79% (286/362)   \r",
        "Resolving deltas:  82% (298/362)   \r",
        "Resolving deltas:  83% (301/362)   \r",
        "Resolving deltas:  86% (314/362)   \r",
        "Resolving deltas:  87% (317/362)   \r",
        "Resolving deltas:  88% (320/362)   \r",
        "Resolving deltas:  89% (324/362)   \r",
        "Resolving deltas:  90% (328/362)   \r",
        "Resolving deltas:  91% (332/362)   \r",
        "Resolving deltas:  92% (334/362)   \r",
        "Resolving deltas:  93% (337/362)   \r",
        "Resolving deltas:  94% (342/362)   \r",
        "Resolving deltas:  97% (352/362)   \r",
        "Resolving deltas:  98% (357/362)   \r",
        "Resolving deltas:  99% (361/362)   \r",
        "Resolving deltas: 100% (362/362)   \r",
        "Resolving deltas: 100% (362/362), done.\r\n"
       ]
      },
      {
       "output_type": "stream",
       "stream": "stdout",
       "text": [
        "Checking connectivity... done.\r\n"
       ]
      }
     ],
     "prompt_number": 3
    },
    {
     "cell_type": "markdown",
     "metadata": {},
     "source": [
      "Let's `cd` into that directory and check that the contents look right:"
     ]
    },
    {
     "cell_type": "code",
     "collapsed": false,
     "input": [
      "%cd $tgt\n",
      "!ls"
     ],
     "language": "python",
     "metadata": {},
     "outputs": [
      {
       "output_type": "stream",
       "stream": "stdout",
       "text": [
        "/Users/matthewgee/.ipython/profile_default/static/custom\n",
        "README.md                \u001b[34mpublishing\u001b[m\u001b[m               \u001b[34musability\u001b[m\u001b[m\r\n",
        "custom.example.js        \u001b[34mslidemode\u001b[m\u001b[m                \u001b[34mwiki-images\u001b[m\u001b[m\r\n",
        "helper-functions.js      \u001b[34mstyling\u001b[m\u001b[m\r\n",
        "hierarchical_collapse.js \u001b[34mtesting\u001b[m\u001b[m\r\n"
       ]
      }
     ],
     "prompt_number": 4
    },
    {
     "cell_type": "markdown",
     "metadata": {},
     "source": [
      "Finally, write out a `custom.js` file that has activated the slideshow extension.  This is simply the provided `custom.example.js` file, with two lines commented out. Feel free to add more to activate other extensions, as explained in the `README.md` file:"
     ]
    },
    {
     "cell_type": "code",
     "collapsed": false,
     "input": [
      "%%writefile custom.js\n",
      "// we want strict javascript that fails\n",
      "// on ambiguous syntax\n",
      "\"using strict\";\n",
      "\n",
      "// do not use notebook loaded  event as it is re-triggerd on\n",
      "// revert to checkpoint but this allow extesnsion to be loaded\n",
      "// late enough to work.\n",
      "//\n",
      "\n",
      "$([IPython.events]).on('app_initialized.NotebookApp', function(){\n",
      "\n",
      "\n",
      "    /**  Use path to js file relative to /static/ dir without leading slash, or\n",
      "     *  js extension.\n",
      "     *  Link directly to file is js extension.\n",
      "     *\n",
      "     *  first argument of require is a **list** that can contains several modules if needed.\n",
      "     **/\n",
      "\n",
      "    // require(['custom/noscroll']);\n",
      "    // require(['custom/clean_start'])\n",
      "    // require(['custom/toggle_all_line_number'])\n",
      "    // require(['custom/gist_it']);\n",
      "\n",
      "    /**\n",
      "     *  Link to entrypoint if extesnsion is a folder.\n",
      "     *  to be consistent with commonjs module, the entrypoint is main.js\n",
      "     *  here youcan also trigger a custom function on load that will do extra\n",
      "     *  action with the module if needed\n",
      "     **/\n",
      "     require(['custom/slidemode/main'],function(slidemode){\n",
      "    //     // do stuff\n",
      "     })\n",
      "\n",
      "});\n"
     ],
     "language": "python",
     "metadata": {},
     "outputs": [
      {
       "output_type": "stream",
       "stream": "stdout",
       "text": [
        "Writing custom.js\n"
       ]
      }
     ],
     "prompt_number": 5
    },
    {
     "cell_type": "markdown",
     "metadata": {},
     "source": [
      "That's it! You should now restart your notebook server and reload the pages just to make sure you get fresh CSS.  If everything went well, your toolbar should look like this, with a new button highlighted here in red:\n",
      "\n",
      "![img](files/toolbar-slideshow.png)\n",
      "\n",
      "That new button is the toggle to enter live slideshow mode, which you can use to switch between the normal editing mode (with the whole notebook as one long scrolling document) and the presentation mode.\n",
      "\n",
      "Now that you've read this, look at the accompanying `notebook-slideshow-example` notebook as a starting illustration of how you can write a presentation-oriented notebook."
     ]
    },
    {
     "cell_type": "code",
     "collapsed": false,
     "input": [],
     "language": "python",
     "metadata": {},
     "outputs": []
    }
   ],
   "metadata": {}
  }
 ]
}